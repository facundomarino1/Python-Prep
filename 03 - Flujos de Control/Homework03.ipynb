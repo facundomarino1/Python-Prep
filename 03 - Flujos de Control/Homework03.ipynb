{
 "cells": [
  {
   "cell_type": "code",
   "execution_count": null,
   "metadata": {},
   "outputs": [],
   "source": [
    "for n in range(1,10):\n",
    "    print(n)\n",
    "    "
   ]
  },
  {
   "cell_type": "code",
   "execution_count": null,
   "metadata": {},
   "outputs": [],
   "source": [
    "n=1\n",
    "while (n<10):\n",
    "    print(n)\n",
    "    n+=1"
   ]
  },
  {
   "cell_type": "code",
   "execution_count": null,
   "metadata": {},
   "outputs": [],
   "source": [
    "x=int(input('start count from: '))\n",
    "while True:\n",
    "    x-=1\n",
    "    print(x)\n",
    "    if x==0:\n",
    "        break\n",
    "print('fin del bucle')\n",
    "\n"
   ]
  },
  {
   "cell_type": "code",
   "execution_count": null,
   "metadata": {},
   "outputs": [],
   "source": [
    "cadena='Python'\n",
    "for letra in cadena:\n",
    "    if letra == 'P':\n",
    "        continue\n",
    "    print(letra)\n"
   ]
  },
  {
   "cell_type": "code",
   "execution_count": null,
   "metadata": {},
   "outputs": [],
   "source": [
    "# 1) Crear una variable que contenga un elemento del conjunto de números enteros y luego imprimir por pantalla si es mayor o menor a cero\n",
    "var1=int(input('Dame un número mayor a 0 gay:'))\n",
    "if (var1>=0):\n",
    "    print('Mayor a', 0)\n",
    "else:\n",
    "    print('menor a 0')\n"
   ]
  },
  {
   "cell_type": "code",
   "execution_count": null,
   "metadata": {},
   "outputs": [],
   "source": [
    "# 2) Crear dos variables y un condicional que informe si son del mismo tipo de dato\n",
    "var2=input('dame algo:')\n",
    "var3=input('dame otra cosa:')\n",
    "if(type(var2)==type(var3)):\n",
    "    print('they are equal')\n",
    "else:\n",
    "    print('not the same bro')\n",
    "    "
   ]
  },
  {
   "cell_type": "code",
   "execution_count": null,
   "metadata": {},
   "outputs": [],
   "source": [
    "# 3) Para los valores enteros del 1 al 20, imprimir por pantalla si es par o impar\n",
    "for num in range(1,21):\n",
    "    if (num%2==0):\n",
    "        print('pair bro')\n",
    "    else:\n",
    "        print('not pair bro')"
   ]
  },
  {
   "cell_type": "code",
   "execution_count": null,
   "metadata": {},
   "outputs": [],
   "source": [
    "# 4) En un ciclo for mostrar para los valores entre 0 y 5 el resultado de elevarlo a la potencia igual a 3\n",
    "for number in range(0,6):\n",
    "    print(number**3)   \n"
   ]
  },
  {
   "cell_type": "code",
   "execution_count": null,
   "metadata": {},
   "outputs": [],
   "source": [
    "# 5) Crear una variable que contenga un número entero y realizar un ciclo for la misma cantidad de ciclos\n",
    "var4=int(input('ingresá un numero ENTERO pedazo de careta:'))\n",
    "for x in range(1,var4+1):\n",
    "    print(x)\n"
   ]
  },
  {
   "cell_type": "code",
   "execution_count": 4,
   "metadata": {},
   "outputs": [
    {
     "name": "stdout",
     "output_type": "stream",
     "text": [
      "9\n",
      "27\n",
      "81\n"
     ]
    }
   ],
   "source": [
    "# 6) Utilizar un ciclo while para realizar el factorial de un número guardado en una variable, sólo si la variable contiene un número entero mayor a 0\n",
    "var5=int(input('dame un entero:'))\n",
    "x=0\n",
    "var6=var5\n",
    "if (var5>0):\n",
    "    while (x<var5):\n",
    "        var6=var6*var5\n",
    "        x=x+1\n",
    "        print(var6)\n",
    "else:\n",
    "    print('fin')\n",
    "    "
   ]
  },
  {
   "cell_type": "code",
   "execution_count": 8,
   "metadata": {},
   "outputs": [
    {
     "name": "stdout",
     "output_type": "stream",
     "text": [
      "0\n",
      "1\n",
      "2\n",
      "3\n",
      "0\n",
      "1\n",
      "2\n",
      "3\n",
      "0\n",
      "1\n",
      "2\n",
      "3\n",
      "0\n",
      "1\n",
      "2\n",
      "3\n"
     ]
    }
   ],
   "source": [
    "# 7) Crear un ciclo for dentro de un ciclo while\n",
    "f=int(input('gimme an int: '))\n",
    "g=0\n",
    "while(g<=f):\n",
    "    for simbol in range(0,4):\n",
    "        print(simbol)\n",
    "    g=g+1\n"
   ]
  },
  {
   "cell_type": "code",
   "execution_count": 9,
   "metadata": {},
   "outputs": [
    {
     "name": "stdout",
     "output_type": "stream",
     "text": [
      "still have 2 left\n",
      "still have 1 left\n",
      "still have 0 left\n",
      "still have 1 left\n",
      "still have 0 left\n",
      "still have 1 left\n",
      "still have 0 left\n",
      "still have 0 left\n"
     ]
    }
   ],
   "source": [
    "# 8) Crear un ciclo while dentro de un ciclo for\n",
    "for var7 in range(0,4):\n",
    "    e=int(input('int?:'))\n",
    "    d=0\n",
    "    while(d<e):\n",
    "        d=d+1\n",
    "        c=e-d\n",
    "        print('still have',c,'left')\n",
    "        "
   ]
  },
  {
   "cell_type": "code",
   "execution_count": 29,
   "metadata": {},
   "outputs": [
    {
     "name": "stdout",
     "output_type": "stream",
     "text": [
      "3\n",
      "5\n",
      "7\n",
      "11\n",
      "13\n",
      "17\n",
      "19\n",
      "23\n",
      "29\n"
     ]
    }
   ],
   "source": [
    "# 9) Imprimir los números primos existentes entre 0 y 30\n",
    "for numerodeprueba in range(0,31): #hacer del 1 al 30\n",
    "    divisor=1 #arrancamos con el divisor siendo 1\n",
    "    contador=0 #contamos cuantos divisores tiene el número, arrancando en 0\n",
    "    while (divisor<=numerodeprueba): #desde 1 hasta el número que esté pasando\n",
    "        if (numerodeprueba%2!=0) and (numerodeprueba%divisor==0): #sin contar los impares, y que al dividir por el divisor sea exacto\n",
    "            contador=contador+1 #si llegó acá sumo al contadore de dividores 1 más\n",
    "        divisor=divisor+1 #either way paso al siguiente divisor\n",
    "    if (contador==2):\n",
    "        print(numerodeprueba)\n",
    "#honestamente no entiendo cómo carajo hice que funcione\n"
   ]
  },
  {
   "cell_type": "code",
   "execution_count": 31,
   "metadata": {},
   "outputs": [
    {
     "name": "stdout",
     "output_type": "stream",
     "text": [
      "2\n",
      "3\n",
      "5\n",
      "7\n",
      "11\n",
      "13\n",
      "17\n",
      "19\n",
      "23\n",
      "29\n"
     ]
    }
   ],
   "source": [
    "# 10) ¿Se puede mejorar el proceso del punto 9? Utilizar las sentencias break y/ó continue para tal fin\n",
    "for number in range(0,31):\n",
    "    dividir=1\n",
    "    recuento=0\n",
    "    while(dividir<=number):\n",
    "        if(number%dividir==0):\n",
    "            recuento=recuento+1\n",
    "        dividir=dividir+1\n",
    "    if(recuento==2):\n",
    "        print(number)  "
   ]
  },
  {
   "cell_type": "code",
   "execution_count": null,
   "metadata": {},
   "outputs": [],
   "source": [
    "# 11) En los puntos 9 y 10, se diseño un código que encuentra números primos y además se lo optimizó. ¿Es posible saber en qué medida se optimizó?\n",
    "#no man. cómo lo voy a saber?"
   ]
  },
  {
   "cell_type": "code",
   "execution_count": null,
   "metadata": {},
   "outputs": [],
   "source": [
    "# 12) Si la cantidad de números que se evalúa es mayor a treinta, esa optimización crece?\n"
   ]
  },
  {
   "cell_type": "code",
   "execution_count": 32,
   "metadata": {},
   "outputs": [
    {
     "name": "stdout",
     "output_type": "stream",
     "text": [
      "108\n",
      "120\n",
      "132\n",
      "144\n",
      "156\n",
      "168\n",
      "180\n",
      "192\n",
      "204\n",
      "216\n",
      "228\n",
      "240\n",
      "252\n",
      "264\n",
      "276\n",
      "288\n",
      "300\n"
     ]
    }
   ],
   "source": [
    "# 13) Aplicando continue, armar un ciclo while que solo imprima los valores divisibles por 12, dentro del rango de números de 100 a 300\n",
    "for iteracion in range(99, 301):\n",
    "    if(iteracion%12==0):\n",
    "        print(iteracion)"
   ]
  },
  {
   "cell_type": "code",
   "execution_count": 53,
   "metadata": {},
   "outputs": [],
   "source": [
    "# 14) Utilizar la función **input()** que permite hacer ingresos por teclado, para encontrar números primos y dar la opción al usario de buscar el siguiente\n",
    "fuck=int(input('dame un INT:'))\n",
    "contar=0\n",
    "div=1\n",
    "while(div<=fuck):\n",
    "    if(fuck%div==0):\n",
    "        contar=contar+1\n",
    "    div=div+1\n",
    "if(contar==2):\n",
    "    print('es primo, el siguiente primo es') #literalmente no hay forma de saber el siguiente primo man\n",
    "else:\n",
    "    print('no es primo')"
   ]
  },
  {
   "cell_type": "code",
   "execution_count": 55,
   "metadata": {},
   "outputs": [
    {
     "name": "stdout",
     "output_type": "stream",
     "text": [
      "102 divido 6 es 17.0 y dividio 3 es 34.0\n",
      "108 divido 6 es 18.0 y dividio 3 es 36.0\n",
      "114 divido 6 es 19.0 y dividio 3 es 38.0\n",
      "120 divido 6 es 20.0 y dividio 3 es 40.0\n",
      "126 divido 6 es 21.0 y dividio 3 es 42.0\n",
      "132 divido 6 es 22.0 y dividio 3 es 44.0\n",
      "138 divido 6 es 23.0 y dividio 3 es 46.0\n",
      "144 divido 6 es 24.0 y dividio 3 es 48.0\n",
      "150 divido 6 es 25.0 y dividio 3 es 50.0\n"
     ]
    }
   ],
   "source": [
    "# 15) Crear un ciclo while que encuentre dentro del rango de 100 a 300 el primer número divisible por 3 y además múltiplo de 6\n",
    "for intento in range(99,151):\n",
    "    if(intento%3==0) and (intento%6==0):\n",
    "        y=intento/3\n",
    "        w=intento/6\n",
    "        print(intento, 'divido 6 es',w, 'y dividio 3 es',y)\n",
    "    "
   ]
  }
 ],
 "metadata": {
  "kernelspec": {
   "display_name": "Python 3",
   "language": "python",
   "name": "python3"
  },
  "language_info": {
   "codemirror_mode": {
    "name": "ipython",
    "version": 3
   },
   "file_extension": ".py",
   "mimetype": "text/x-python",
   "name": "python",
   "nbconvert_exporter": "python",
   "pygments_lexer": "ipython3",
   "version": "3.10.2"
  },
  "orig_nbformat": 4,
  "vscode": {
   "interpreter": {
    "hash": "b5d04f6d8a329d95987b154106802e5cf109483b394daa4f9d4f080f051e1734"
   }
  }
 },
 "nbformat": 4,
 "nbformat_minor": 2
}
